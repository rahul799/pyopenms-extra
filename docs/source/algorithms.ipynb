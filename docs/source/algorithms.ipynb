{
 "cells": [
  {
   "cell_type": "markdown",
   "metadata": {},
   "source": [
    "# Algorithms\n",
    "\n",
    "Most signal processing algorithms follow a similar pattern in OpenMS."
   ]
  },
  {
   "cell_type": "code",
   "execution_count": null,
   "metadata": {},
   "outputs": [],
   "source": [
    "algorithm = AlgorithmClass()\n",
    "exp = MSExperiment()\n",
    "# populate exp, for example load from file\n",
    "algorithm.filterExperiment(exp)"
   ]
  },
  {
   "cell_type": "markdown",
   "metadata": {},
   "source": [
    "In many cases, the processing algorithms have a set of parameters that\n",
    "can be adjusted. These are accessible through `getParameters()` and\n",
    "yield a `Param` object (see [Parameter\n",
    "handling](parameter_handling.ipynb)) which can be manipulated. After\n",
    "changing parameters, one can use `setParameters()` to propagate the new\n",
    "parameters to the algorithm:"
   ]
  },
  {
   "cell_type": "code",
   "execution_count": null,
   "metadata": {},
   "outputs": [],
   "source": [
    "algorithm = AlgorithmClass()\n",
    "param = algorithm.getParameters()\n",
    "param.setValue(\"algo_parameter\", \"new_value\")\n",
    "algorithm.setParameters(param)\n",
    "\n",
    "exp = MSExperiment()\n",
    "# populate exp, for example load from file\n",
    "algorithm.filterExperiment(exp)"
   ]
  },
  {
   "cell_type": "markdown",
   "metadata": {},
   "source": [
    "Since they work on a single MSExperiment object, little input is needed\n",
    "to execute a filter directly on the data. Examples of filters that\n",
    "follow this pattern are `GaussFilter`, `SavitzkyGolayFilter` as well as\n",
    "the spectral filters `BernNorm`, `MarkerMower`, `NLargest`,\n",
    "`Normalizer`, `ParentPeakMower`, `Scaler`, `SpectraMerger`, `SqrtMower`,\n",
    "`ThresholdMower`, `WindowMower`.\n",
    "\n",
    "Using the same example file as before, we can apply this approach as\n",
    "follows:"
   ]
  },
  {
   "cell_type": "code",
   "execution_count": null,
   "metadata": {},
   "outputs": [],
   "source": [
    "from pyopenms import *\n",
    "\n",
    "exp = MSExperiment()\n",
    "gf = GaussFilter()\n",
    "MzMLFile().load(\"test.mzML\", exp)\n",
    "gf.filterExperiment(exp)\n",
    "MzMLFile().store(\"test.filtered.mzML\", exp)"
   ]
  },
  {
   "cell_type": "markdown",
   "metadata": {},
   "source": [
    "[](https://mybinder.org/v2/gh/OpenMS/pyopenms-extra/master+ipynb?urlpath=lab/tree/docs/source/algorithms.ipynb)"
   ]
  }
 ],
 "nbformat": 4,
 "nbformat_minor": 5,
 "metadata": {}
}
