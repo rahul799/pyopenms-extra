{
 "cells": [
  {
   "cell_type": "markdown",
   "metadata": {},
   "source": [
    "# Spectrum normalization\n",
    "\n",
    "Another very basic spectrum processing step is normalization by base\n",
    "peak intensity (=the maximum intensity of a spectrum)."
   ]
  },
  {
   "cell_type": "code",
   "execution_count": null,
   "metadata": {},
   "outputs": [],
   "source": [
    "from urllib.request import urlretrieve\n",
    "from pyopenms import *\n",
    "gh = \"https://raw.githubusercontent.com/OpenMS/pyopenms-extra/master\"\n",
    "urlretrieve (gh + \"/src/data/peakpicker_tutorial_1_baseline_filtered.mzML\", \"tutorial.mzML\")\n",
    "\n",
    "exp = MSExperiment()\n",
    "normalizer = Normalizer()\n",
    "param = normalizer.getParameters()\n",
    "param.setValue(\"method\", \"to_one\")\n",
    "normalizer.setParameters(param)\n",
    "\n",
    "MzMLFile().load(\"tutorial.mzML\", exp)\n",
    "normalizer.filterExperiment(exp)\n",
    "MzMLFile().store(\"tutorial.normalized.mzML\", exp)"
   ]
  },
  {
   "cell_type": "markdown",
   "metadata": {},
   "source": [
    "We can now again load our data into TOPPView to observe the effect of\n",
    "base peak normalization.\n",
    "\n",
    "Another way of normalizing is by TIC (total ion count) of the spectrum,\n",
    "which scales intensities so they add up to 1.0 in each spectrum. Try it\n",
    "out for yourself by setting: param.setValue(\"method\", \"to_TIC\")."
   ]
  }
 ],
 "nbformat": 4,
 "nbformat_minor": 5,
 "metadata": {}
}
