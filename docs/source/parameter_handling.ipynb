{
 "cells": [
  {
   "cell_type": "markdown",
   "metadata": {},
   "source": [
    "# Parameter Handling\n",
    "\n",
    "Parameter handling in OpenMS and pyOpenMS is usually implemented through\n",
    "inheritance from `DefaultParamHandler` and allow access to parameters\n",
    "through the `Param` object. This means, the classes implement the\n",
    "methods `getDefaults`, `getParameters`, `setParameters` which allows\n",
    "access to the default parameters, the current parameters and allows to\n",
    "set the parameters.\n",
    "\n",
    "The `Param` object that is returned can be manipulated through the\n",
    "`setValue` and `getValue` methods (the `exists` method can be used to\n",
    "check for existence of a key). Using the `getDescription` method, it is\n",
    "possible to get a help-text for each parameter value in an interactive\n",
    "session without consulting the documentation."
   ]
  },
  {
   "cell_type": "code",
   "execution_count": null,
   "metadata": {},
   "outputs": [],
   "source": [
    "from pyopenms import *\n",
    "p = Param()\n",
    "p.setValue(\"param1\", 4.0, \"This is value 1\")\n",
    "p.setValue(\"param2\", 5.0, \"This is value 2\")\n",
    "p.setValue(\"param3\", [b\"H:+:0.6\",b\"Na:+:0.2\",b\"K:+:0.2\"], \"This is value 3 (StringList)\")\n",
    "print( p[b\"param1\"] )\n",
    "p[b\"param1\"] += 3 # add three to the parameter value\n",
    "print( p[b\"param1\"] )\n",
    "print( p[b\"param3\"] )"
   ]
  },
  {
   "cell_type": "markdown",
   "metadata": {},
   "source": [
    "The parameters can then be accessed as"
   ]
  },
  {
   "cell_type": "code",
   "execution_count": null,
   "metadata": {},
   "outputs": [],
   "source": [
    ">>> p.asDict()\n",
    "{'param2': 4.0, 'param1': 7.0}\n",
    ">>> p.values()\n",
    "[4.0, 7.0]\n",
    ">>> p.keys()\n",
    "['param1', 'param2']\n",
    ">>> p.items()\n",
    "[('param1', 7.0), ('param2', 4.0)]\n",
    ">>> p.exists(\"param1\")\n",
    "True"
   ]
  }
 ],
 "nbformat": 4,
 "nbformat_minor": 5,
 "metadata": {}
}
