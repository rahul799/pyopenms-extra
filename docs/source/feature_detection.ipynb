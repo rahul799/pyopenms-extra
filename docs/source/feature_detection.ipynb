{
 "cells": [
  {
   "cell_type": "markdown",
   "metadata": {},
   "source": [
    "# Feature Detection\n",
    "\n",
    "One very common task in mass spectrometry is the detection of\n",
    "2-dimensional patterns in m/z and time (RT) dimension from a series of\n",
    "MS1 scans. These patterns are called `Features` and they exhibit a\n",
    "chromatographic elution profile in the time dimension and an isotopic\n",
    "pattern in the m/z dimension (see [previous section](deisotoping.ipynb)\n",
    "for the 1-dimensional problem). OpenMS has multiple tools that can\n",
    "identify these features in 2-dimensional data, these tools are called\n",
    "<span class=\"title-ref\">FeatureFinder</span>. Currently the following\n",
    "FeatureFinders are available in pyOpenMS:\n",
    "\n",
    "> -   FeatureFinderMultiplexAlgorithm\n",
    "> -   FeatureFinderIdentificationAlgorithm\n",
    "> -   FeatureFinderAlgorithmIsotopeWavelet\n",
    "> -   FeatureFinderAlgorithmPicked\n",
    "> -   FeatureFinder\n",
    "> -   FeatureFindingMetabo\n",
    "> -   FeatureFinderAlgorithmMetaboIdent\n",
    "> -   FeatureFinderMetaboIdentCompound\n",
    "\n",
    "All of the algorithms above are for proteomics data with the exception\n",
    "of FeatureFindingMetabo, FeatureFinderMetaboIdent and\n",
    "FeatureFinderMetaboIdentCompound which work on metabolomics data. Two of\n",
    "the most commonly used FeatureFinders in OpenMS are the FeatureFinder\n",
    "and FeatureFinderIdentificationAlgorithm which both work on (high\n",
    "resolution) centroided data. We can use the following code to find\n",
    "`Features` in MS data:"
   ]
  },
  {
   "cell_type": "code",
   "execution_count": null,
   "metadata": {},
   "outputs": [],
   "source": [
    "from urllib.request import urlretrieve\n",
    "gh = \"https://raw.githubusercontent.com/OpenMS/pyopenms-extra/master\"\n",
    "urlretrieve (gh + \"/src/data/FeatureFinderCentroided_1_input.mzML\", \"feature_test.mzML\")\n",
    "\n",
    "from pyopenms import *\n",
    "\n",
    "# Prepare data loading (save memory by only\n",
    "# loading MS1 spectra into memory)\n",
    "options = PeakFileOptions()\n",
    "options.setMSLevels([1])\n",
    "fh = MzMLFile()\n",
    "fh.setOptions(options)\n",
    "\n",
    "# Load data\n",
    "input_map = MSExperiment()\n",
    "fh.load(\"feature_test.mzML\", input_map)\n",
    "input_map.updateRanges()\n",
    "\n",
    "ff = FeatureFinder()\n",
    "ff.setLogType(LogType.CMD)\n",
    "\n",
    "# Run the feature finder\n",
    "name = \"centroided\"\n",
    "features = FeatureMap() \n",
    "seeds = FeatureMap()\n",
    "params = FeatureFinder().getParameters(name)\n",
    "ff.run(name, input_map, features, params, seeds)\n",
    "\n",
    "features.setUniqueIds()\n",
    "fh = FeatureXMLFile()\n",
    "fh.store(\"output.featureXML\", features)\n",
    "print(\"Found\", features.size(), \"features\")"
   ]
  },
  {
   "cell_type": "markdown",
   "metadata": {},
   "source": [
    "With a few lines of Python, we are able to run powerful algorithms\n",
    "available in OpenMS. The resulting data is held in memory (a\n",
    "`FeatureMap` object) and can be inspected directly using the\n",
    "`help(features)` comment. It reveals that the object supports iteration\n",
    "(through the `__iter__` function) as well as direct access (through the\n",
    "`__getitem__` function). This means we write code that uses direct\n",
    "access and iteration in Python as follows:"
   ]
  },
  {
   "cell_type": "code",
   "execution_count": null,
   "metadata": {},
   "outputs": [],
   "source": [
    "f0 = features[0]\n",
    "for f in features:\n",
    "    print (f.getRT(), f.getMZ())"
   ]
  },
  {
   "cell_type": "markdown",
   "metadata": {},
   "source": [
    "Each entry in the `FeatureMap` is a so-called `Feature` and allows\n",
    "direct access to the <span class=\"title-ref\">m/z</span> and <span\n",
    "class=\"title-ref\">RT</span> value from Python. Again, we can lear this\n",
    "by inspecting `help(f)` or by consulting the Manual.\n",
    "\n",
    "Note: the output file that we have written (`output.featureXML`) is an\n",
    "OpenMS-internal XML format for storing features. You can learn more\n",
    "about file formats in the [Reading MS data\n",
    "formats](other_file_handling.ipynb) section."
   ]
  }
 ],
 "nbformat": 4,
 "nbformat_minor": 5,
 "metadata": {}
}
